{
 "cells": [
  {
   "cell_type": "code",
   "execution_count": 2,
   "metadata": {},
   "outputs": [
    {
     "name": "stdout",
     "output_type": "stream",
     "text": [
      "Requirement already satisfied: langchain in /home/daisy/Desktop/tenx/ContractAdvisorRAG/myenv/lib/python3.10/site-packages (0.2.6)\n",
      "Requirement already satisfied: chromadb in /home/daisy/Desktop/tenx/ContractAdvisorRAG/myenv/lib/python3.10/site-packages (0.5.3)\n",
      "Requirement already satisfied: openai in /home/daisy/Desktop/tenx/ContractAdvisorRAG/myenv/lib/python3.10/site-packages (1.35.8)\n",
      "Requirement already satisfied: PyMuPDF in /home/daisy/Desktop/tenx/ContractAdvisorRAG/myenv/lib/python3.10/site-packages (1.24.7)\n",
      "Requirement already satisfied: tiktoken in /home/daisy/Desktop/tenx/ContractAdvisorRAG/myenv/lib/python3.10/site-packages (0.7.0)\n",
      "Requirement already satisfied: requests<3,>=2 in /home/daisy/Desktop/tenx/ContractAdvisorRAG/myenv/lib/python3.10/site-packages (from langchain) (2.32.3)\n",
      "Requirement already satisfied: pydantic<3,>=1 in /home/daisy/Desktop/tenx/ContractAdvisorRAG/myenv/lib/python3.10/site-packages (from langchain) (2.8.0)\n",
      "Requirement already satisfied: tenacity!=8.4.0,<9.0.0,>=8.1.0 in /home/daisy/Desktop/tenx/ContractAdvisorRAG/myenv/lib/python3.10/site-packages (from langchain) (8.4.2)\n",
      "Requirement already satisfied: aiohttp<4.0.0,>=3.8.3 in /home/daisy/Desktop/tenx/ContractAdvisorRAG/myenv/lib/python3.10/site-packages (from langchain) (3.9.5)\n",
      "Requirement already satisfied: langchain-core<0.3.0,>=0.2.10 in /home/daisy/Desktop/tenx/ContractAdvisorRAG/myenv/lib/python3.10/site-packages (from langchain) (0.2.10)\n",
      "Requirement already satisfied: langsmith<0.2.0,>=0.1.17 in /home/daisy/Desktop/tenx/ContractAdvisorRAG/myenv/lib/python3.10/site-packages (from langchain) (0.1.83)\n",
      "Requirement already satisfied: numpy<2,>=1 in /home/daisy/Desktop/tenx/ContractAdvisorRAG/myenv/lib/python3.10/site-packages (from langchain) (1.26.4)\n",
      "Requirement already satisfied: SQLAlchemy<3,>=1.4 in /home/daisy/Desktop/tenx/ContractAdvisorRAG/myenv/lib/python3.10/site-packages (from langchain) (2.0.31)\n",
      "Requirement already satisfied: async-timeout<5.0.0,>=4.0.0 in /home/daisy/Desktop/tenx/ContractAdvisorRAG/myenv/lib/python3.10/site-packages (from langchain) (4.0.3)\n",
      "Requirement already satisfied: langchain-text-splitters<0.3.0,>=0.2.0 in /home/daisy/Desktop/tenx/ContractAdvisorRAG/myenv/lib/python3.10/site-packages (from langchain) (0.2.2)\n",
      "Requirement already satisfied: PyYAML>=5.3 in /home/daisy/Desktop/tenx/ContractAdvisorRAG/myenv/lib/python3.10/site-packages (from langchain) (6.0.1)\n",
      "Requirement already satisfied: typing-extensions>=4.5.0 in /home/daisy/Desktop/tenx/ContractAdvisorRAG/myenv/lib/python3.10/site-packages (from chromadb) (4.12.2)\n",
      "Requirement already satisfied: uvicorn[standard]>=0.18.3 in /home/daisy/Desktop/tenx/ContractAdvisorRAG/myenv/lib/python3.10/site-packages (from chromadb) (0.30.1)\n",
      "Requirement already satisfied: kubernetes>=28.1.0 in /home/daisy/Desktop/tenx/ContractAdvisorRAG/myenv/lib/python3.10/site-packages (from chromadb) (30.1.0)\n",
      "Requirement already satisfied: posthog>=2.4.0 in /home/daisy/Desktop/tenx/ContractAdvisorRAG/myenv/lib/python3.10/site-packages (from chromadb) (3.5.0)\n",
      "Requirement already satisfied: opentelemetry-instrumentation-fastapi>=0.41b0 in /home/daisy/Desktop/tenx/ContractAdvisorRAG/myenv/lib/python3.10/site-packages (from chromadb) (0.46b0)\n",
      "Requirement already satisfied: overrides>=7.3.1 in /home/daisy/Desktop/tenx/ContractAdvisorRAG/myenv/lib/python3.10/site-packages (from chromadb) (7.7.0)\n",
      "Requirement already satisfied: orjson>=3.9.12 in /home/daisy/Desktop/tenx/ContractAdvisorRAG/myenv/lib/python3.10/site-packages (from chromadb) (3.10.5)\n",
      "Requirement already satisfied: opentelemetry-sdk>=1.2.0 in /home/daisy/Desktop/tenx/ContractAdvisorRAG/myenv/lib/python3.10/site-packages (from chromadb) (1.25.0)\n",
      "Requirement already satisfied: opentelemetry-exporter-otlp-proto-grpc>=1.2.0 in /home/daisy/Desktop/tenx/ContractAdvisorRAG/myenv/lib/python3.10/site-packages (from chromadb) (1.25.0)\n",
      "Requirement already satisfied: chroma-hnswlib==0.7.3 in /home/daisy/Desktop/tenx/ContractAdvisorRAG/myenv/lib/python3.10/site-packages (from chromadb) (0.7.3)\n",
      "Requirement already satisfied: pypika>=0.48.9 in /home/daisy/Desktop/tenx/ContractAdvisorRAG/myenv/lib/python3.10/site-packages (from chromadb) (0.48.9)\n",
      "Requirement already satisfied: grpcio>=1.58.0 in /home/daisy/Desktop/tenx/ContractAdvisorRAG/myenv/lib/python3.10/site-packages (from chromadb) (1.64.1)\n",
      "Requirement already satisfied: importlib-resources in /home/daisy/Desktop/tenx/ContractAdvisorRAG/myenv/lib/python3.10/site-packages (from chromadb) (6.4.0)\n",
      "Requirement already satisfied: build>=1.0.3 in /home/daisy/Desktop/tenx/ContractAdvisorRAG/myenv/lib/python3.10/site-packages (from chromadb) (1.2.1)\n",
      "Requirement already satisfied: mmh3>=4.0.1 in /home/daisy/Desktop/tenx/ContractAdvisorRAG/myenv/lib/python3.10/site-packages (from chromadb) (4.1.0)\n",
      "Requirement already satisfied: tqdm>=4.65.0 in /home/daisy/Desktop/tenx/ContractAdvisorRAG/myenv/lib/python3.10/site-packages (from chromadb) (4.66.4)\n",
      "Requirement already satisfied: tokenizers>=0.13.2 in /home/daisy/Desktop/tenx/ContractAdvisorRAG/myenv/lib/python3.10/site-packages (from chromadb) (0.19.1)\n",
      "Requirement already satisfied: bcrypt>=4.0.1 in /home/daisy/Desktop/tenx/ContractAdvisorRAG/myenv/lib/python3.10/site-packages (from chromadb) (4.1.3)\n",
      "Requirement already satisfied: httpx>=0.27.0 in /home/daisy/Desktop/tenx/ContractAdvisorRAG/myenv/lib/python3.10/site-packages (from chromadb) (0.27.0)\n",
      "Requirement already satisfied: opentelemetry-api>=1.2.0 in /home/daisy/Desktop/tenx/ContractAdvisorRAG/myenv/lib/python3.10/site-packages (from chromadb) (1.25.0)\n",
      "Requirement already satisfied: typer>=0.9.0 in /home/daisy/Desktop/tenx/ContractAdvisorRAG/myenv/lib/python3.10/site-packages (from chromadb) (0.12.3)\n",
      "Requirement already satisfied: fastapi>=0.95.2 in /home/daisy/Desktop/tenx/ContractAdvisorRAG/myenv/lib/python3.10/site-packages (from chromadb) (0.111.0)\n",
      "Requirement already satisfied: onnxruntime>=1.14.1 in /home/daisy/Desktop/tenx/ContractAdvisorRAG/myenv/lib/python3.10/site-packages (from chromadb) (1.18.1)\n",
      "Requirement already satisfied: distro<2,>=1.7.0 in /home/daisy/Desktop/tenx/ContractAdvisorRAG/myenv/lib/python3.10/site-packages (from openai) (1.9.0)\n",
      "Requirement already satisfied: sniffio in /home/daisy/Desktop/tenx/ContractAdvisorRAG/myenv/lib/python3.10/site-packages (from openai) (1.3.1)\n",
      "Requirement already satisfied: anyio<5,>=3.5.0 in /home/daisy/Desktop/tenx/ContractAdvisorRAG/myenv/lib/python3.10/site-packages (from openai) (4.4.0)\n",
      "Requirement already satisfied: PyMuPDFb==1.24.6 in /home/daisy/Desktop/tenx/ContractAdvisorRAG/myenv/lib/python3.10/site-packages (from PyMuPDF) (1.24.6)\n",
      "Requirement already satisfied: regex>=2022.1.18 in /home/daisy/Desktop/tenx/ContractAdvisorRAG/myenv/lib/python3.10/site-packages (from tiktoken) (2024.5.15)\n",
      "Requirement already satisfied: frozenlist>=1.1.1 in /home/daisy/Desktop/tenx/ContractAdvisorRAG/myenv/lib/python3.10/site-packages (from aiohttp<4.0.0,>=3.8.3->langchain) (1.4.1)\n",
      "Requirement already satisfied: attrs>=17.3.0 in /home/daisy/Desktop/tenx/ContractAdvisorRAG/myenv/lib/python3.10/site-packages (from aiohttp<4.0.0,>=3.8.3->langchain) (23.2.0)\n",
      "Requirement already satisfied: yarl<2.0,>=1.0 in /home/daisy/Desktop/tenx/ContractAdvisorRAG/myenv/lib/python3.10/site-packages (from aiohttp<4.0.0,>=3.8.3->langchain) (1.9.4)\n",
      "Requirement already satisfied: aiosignal>=1.1.2 in /home/daisy/Desktop/tenx/ContractAdvisorRAG/myenv/lib/python3.10/site-packages (from aiohttp<4.0.0,>=3.8.3->langchain) (1.3.1)\n",
      "Requirement already satisfied: multidict<7.0,>=4.5 in /home/daisy/Desktop/tenx/ContractAdvisorRAG/myenv/lib/python3.10/site-packages (from aiohttp<4.0.0,>=3.8.3->langchain) (6.0.5)\n",
      "Requirement already satisfied: idna>=2.8 in /home/daisy/Desktop/tenx/ContractAdvisorRAG/myenv/lib/python3.10/site-packages (from anyio<5,>=3.5.0->openai) (3.7)\n",
      "Requirement already satisfied: exceptiongroup>=1.0.2 in /home/daisy/Desktop/tenx/ContractAdvisorRAG/myenv/lib/python3.10/site-packages (from anyio<5,>=3.5.0->openai) (1.2.1)\n",
      "Requirement already satisfied: packaging>=19.1 in /home/daisy/Desktop/tenx/ContractAdvisorRAG/myenv/lib/python3.10/site-packages (from build>=1.0.3->chromadb) (24.1)\n",
      "Requirement already satisfied: tomli>=1.1.0 in /home/daisy/Desktop/tenx/ContractAdvisorRAG/myenv/lib/python3.10/site-packages (from build>=1.0.3->chromadb) (2.0.1)\n",
      "Requirement already satisfied: pyproject_hooks in /home/daisy/Desktop/tenx/ContractAdvisorRAG/myenv/lib/python3.10/site-packages (from build>=1.0.3->chromadb) (1.1.0)\n",
      "Requirement already satisfied: starlette<0.38.0,>=0.37.2 in /home/daisy/Desktop/tenx/ContractAdvisorRAG/myenv/lib/python3.10/site-packages (from fastapi>=0.95.2->chromadb) (0.37.2)\n",
      "Requirement already satisfied: fastapi-cli>=0.0.2 in /home/daisy/Desktop/tenx/ContractAdvisorRAG/myenv/lib/python3.10/site-packages (from fastapi>=0.95.2->chromadb) (0.0.4)\n",
      "Requirement already satisfied: python-multipart>=0.0.7 in /home/daisy/Desktop/tenx/ContractAdvisorRAG/myenv/lib/python3.10/site-packages (from fastapi>=0.95.2->chromadb) (0.0.9)\n",
      "Requirement already satisfied: ujson!=4.0.2,!=4.1.0,!=4.2.0,!=4.3.0,!=5.0.0,!=5.1.0,>=4.0.1 in /home/daisy/Desktop/tenx/ContractAdvisorRAG/myenv/lib/python3.10/site-packages (from fastapi>=0.95.2->chromadb) (5.10.0)\n",
      "Requirement already satisfied: email_validator>=2.0.0 in /home/daisy/Desktop/tenx/ContractAdvisorRAG/myenv/lib/python3.10/site-packages (from fastapi>=0.95.2->chromadb) (2.2.0)\n",
      "Requirement already satisfied: jinja2>=2.11.2 in /home/daisy/Desktop/tenx/ContractAdvisorRAG/myenv/lib/python3.10/site-packages (from fastapi>=0.95.2->chromadb) (3.1.4)\n",
      "Requirement already satisfied: httpcore==1.* in /home/daisy/Desktop/tenx/ContractAdvisorRAG/myenv/lib/python3.10/site-packages (from httpx>=0.27.0->chromadb) (1.0.5)\n",
      "Requirement already satisfied: certifi in /home/daisy/Desktop/tenx/ContractAdvisorRAG/myenv/lib/python3.10/site-packages (from httpx>=0.27.0->chromadb) (2024.6.2)\n",
      "Requirement already satisfied: h11<0.15,>=0.13 in /home/daisy/Desktop/tenx/ContractAdvisorRAG/myenv/lib/python3.10/site-packages (from httpcore==1.*->httpx>=0.27.0->chromadb) (0.14.0)\n",
      "Requirement already satisfied: six>=1.9.0 in /home/daisy/Desktop/tenx/ContractAdvisorRAG/myenv/lib/python3.10/site-packages (from kubernetes>=28.1.0->chromadb) (1.16.0)\n",
      "Requirement already satisfied: requests-oauthlib in /home/daisy/Desktop/tenx/ContractAdvisorRAG/myenv/lib/python3.10/site-packages (from kubernetes>=28.1.0->chromadb) (2.0.0)\n",
      "Requirement already satisfied: urllib3>=1.24.2 in /home/daisy/Desktop/tenx/ContractAdvisorRAG/myenv/lib/python3.10/site-packages (from kubernetes>=28.1.0->chromadb) (2.2.2)\n",
      "Requirement already satisfied: websocket-client!=0.40.0,!=0.41.*,!=0.42.*,>=0.32.0 in /home/daisy/Desktop/tenx/ContractAdvisorRAG/myenv/lib/python3.10/site-packages (from kubernetes>=28.1.0->chromadb) (1.8.0)\n",
      "Requirement already satisfied: google-auth>=1.0.1 in /home/daisy/Desktop/tenx/ContractAdvisorRAG/myenv/lib/python3.10/site-packages (from kubernetes>=28.1.0->chromadb) (2.31.0)\n",
      "Requirement already satisfied: python-dateutil>=2.5.3 in /home/daisy/Desktop/tenx/ContractAdvisorRAG/myenv/lib/python3.10/site-packages (from kubernetes>=28.1.0->chromadb) (2.9.0.post0)\n",
      "Requirement already satisfied: oauthlib>=3.2.2 in /home/daisy/Desktop/tenx/ContractAdvisorRAG/myenv/lib/python3.10/site-packages (from kubernetes>=28.1.0->chromadb) (3.2.2)\n",
      "Requirement already satisfied: jsonpatch<2.0,>=1.33 in /home/daisy/Desktop/tenx/ContractAdvisorRAG/myenv/lib/python3.10/site-packages (from langchain-core<0.3.0,>=0.2.10->langchain) (1.33)\n",
      "Requirement already satisfied: sympy in /home/daisy/Desktop/tenx/ContractAdvisorRAG/myenv/lib/python3.10/site-packages (from onnxruntime>=1.14.1->chromadb) (1.12.1)\n",
      "Requirement already satisfied: flatbuffers in /home/daisy/Desktop/tenx/ContractAdvisorRAG/myenv/lib/python3.10/site-packages (from onnxruntime>=1.14.1->chromadb) (24.3.25)\n",
      "Requirement already satisfied: protobuf in /home/daisy/Desktop/tenx/ContractAdvisorRAG/myenv/lib/python3.10/site-packages (from onnxruntime>=1.14.1->chromadb) (4.25.3)\n",
      "Requirement already satisfied: coloredlogs in /home/daisy/Desktop/tenx/ContractAdvisorRAG/myenv/lib/python3.10/site-packages (from onnxruntime>=1.14.1->chromadb) (15.0.1)\n",
      "Requirement already satisfied: importlib-metadata<=7.1,>=6.0 in /home/daisy/Desktop/tenx/ContractAdvisorRAG/myenv/lib/python3.10/site-packages (from opentelemetry-api>=1.2.0->chromadb) (7.1.0)\n",
      "Requirement already satisfied: deprecated>=1.2.6 in /home/daisy/Desktop/tenx/ContractAdvisorRAG/myenv/lib/python3.10/site-packages (from opentelemetry-api>=1.2.0->chromadb) (1.2.14)\n",
      "Requirement already satisfied: opentelemetry-proto==1.25.0 in /home/daisy/Desktop/tenx/ContractAdvisorRAG/myenv/lib/python3.10/site-packages (from opentelemetry-exporter-otlp-proto-grpc>=1.2.0->chromadb) (1.25.0)\n",
      "Requirement already satisfied: opentelemetry-exporter-otlp-proto-common==1.25.0 in /home/daisy/Desktop/tenx/ContractAdvisorRAG/myenv/lib/python3.10/site-packages (from opentelemetry-exporter-otlp-proto-grpc>=1.2.0->chromadb) (1.25.0)\n",
      "Requirement already satisfied: googleapis-common-protos~=1.52 in /home/daisy/Desktop/tenx/ContractAdvisorRAG/myenv/lib/python3.10/site-packages (from opentelemetry-exporter-otlp-proto-grpc>=1.2.0->chromadb) (1.63.2)\n",
      "Requirement already satisfied: opentelemetry-util-http==0.46b0 in /home/daisy/Desktop/tenx/ContractAdvisorRAG/myenv/lib/python3.10/site-packages (from opentelemetry-instrumentation-fastapi>=0.41b0->chromadb) (0.46b0)\n",
      "Requirement already satisfied: opentelemetry-semantic-conventions==0.46b0 in /home/daisy/Desktop/tenx/ContractAdvisorRAG/myenv/lib/python3.10/site-packages (from opentelemetry-instrumentation-fastapi>=0.41b0->chromadb) (0.46b0)\n",
      "Requirement already satisfied: opentelemetry-instrumentation-asgi==0.46b0 in /home/daisy/Desktop/tenx/ContractAdvisorRAG/myenv/lib/python3.10/site-packages (from opentelemetry-instrumentation-fastapi>=0.41b0->chromadb) (0.46b0)\n",
      "Requirement already satisfied: opentelemetry-instrumentation==0.46b0 in /home/daisy/Desktop/tenx/ContractAdvisorRAG/myenv/lib/python3.10/site-packages (from opentelemetry-instrumentation-fastapi>=0.41b0->chromadb) (0.46b0)\n",
      "Requirement already satisfied: setuptools>=16.0 in /home/daisy/Desktop/tenx/ContractAdvisorRAG/myenv/lib/python3.10/site-packages (from opentelemetry-instrumentation==0.46b0->opentelemetry-instrumentation-fastapi>=0.41b0->chromadb) (59.6.0)\n",
      "Requirement already satisfied: wrapt<2.0.0,>=1.0.0 in /home/daisy/Desktop/tenx/ContractAdvisorRAG/myenv/lib/python3.10/site-packages (from opentelemetry-instrumentation==0.46b0->opentelemetry-instrumentation-fastapi>=0.41b0->chromadb) (1.16.0)\n",
      "Requirement already satisfied: asgiref~=3.0 in /home/daisy/Desktop/tenx/ContractAdvisorRAG/myenv/lib/python3.10/site-packages (from opentelemetry-instrumentation-asgi==0.46b0->opentelemetry-instrumentation-fastapi>=0.41b0->chromadb) (3.8.1)\n",
      "Requirement already satisfied: backoff>=1.10.0 in /home/daisy/Desktop/tenx/ContractAdvisorRAG/myenv/lib/python3.10/site-packages (from posthog>=2.4.0->chromadb) (2.2.1)\n",
      "Requirement already satisfied: monotonic>=1.5 in /home/daisy/Desktop/tenx/ContractAdvisorRAG/myenv/lib/python3.10/site-packages (from posthog>=2.4.0->chromadb) (1.6)\n",
      "Requirement already satisfied: annotated-types>=0.4.0 in /home/daisy/Desktop/tenx/ContractAdvisorRAG/myenv/lib/python3.10/site-packages (from pydantic<3,>=1->langchain) (0.7.0)\n",
      "Requirement already satisfied: pydantic-core==2.20.0 in /home/daisy/Desktop/tenx/ContractAdvisorRAG/myenv/lib/python3.10/site-packages (from pydantic<3,>=1->langchain) (2.20.0)\n",
      "Requirement already satisfied: charset-normalizer<4,>=2 in /home/daisy/Desktop/tenx/ContractAdvisorRAG/myenv/lib/python3.10/site-packages (from requests<3,>=2->langchain) (3.3.2)\n",
      "Requirement already satisfied: greenlet!=0.4.17 in /home/daisy/Desktop/tenx/ContractAdvisorRAG/myenv/lib/python3.10/site-packages (from SQLAlchemy<3,>=1.4->langchain) (3.0.3)\n",
      "Requirement already satisfied: huggingface-hub<1.0,>=0.16.4 in /home/daisy/Desktop/tenx/ContractAdvisorRAG/myenv/lib/python3.10/site-packages (from tokenizers>=0.13.2->chromadb) (0.23.4)\n",
      "Requirement already satisfied: rich>=10.11.0 in /home/daisy/Desktop/tenx/ContractAdvisorRAG/myenv/lib/python3.10/site-packages (from typer>=0.9.0->chromadb) (13.7.1)\n",
      "Requirement already satisfied: shellingham>=1.3.0 in /home/daisy/Desktop/tenx/ContractAdvisorRAG/myenv/lib/python3.10/site-packages (from typer>=0.9.0->chromadb) (1.5.4)\n",
      "Requirement already satisfied: click>=8.0.0 in /home/daisy/Desktop/tenx/ContractAdvisorRAG/myenv/lib/python3.10/site-packages (from typer>=0.9.0->chromadb) (8.1.7)\n",
      "Requirement already satisfied: uvloop!=0.15.0,!=0.15.1,>=0.14.0 in /home/daisy/Desktop/tenx/ContractAdvisorRAG/myenv/lib/python3.10/site-packages (from uvicorn[standard]>=0.18.3->chromadb) (0.19.0)\n",
      "Requirement already satisfied: websockets>=10.4 in /home/daisy/Desktop/tenx/ContractAdvisorRAG/myenv/lib/python3.10/site-packages (from uvicorn[standard]>=0.18.3->chromadb) (12.0)\n",
      "Requirement already satisfied: watchfiles>=0.13 in /home/daisy/Desktop/tenx/ContractAdvisorRAG/myenv/lib/python3.10/site-packages (from uvicorn[standard]>=0.18.3->chromadb) (0.22.0)\n",
      "Requirement already satisfied: python-dotenv>=0.13 in /home/daisy/Desktop/tenx/ContractAdvisorRAG/myenv/lib/python3.10/site-packages (from uvicorn[standard]>=0.18.3->chromadb) (1.0.1)\n",
      "Requirement already satisfied: httptools>=0.5.0 in /home/daisy/Desktop/tenx/ContractAdvisorRAG/myenv/lib/python3.10/site-packages (from uvicorn[standard]>=0.18.3->chromadb) (0.6.1)\n",
      "Requirement already satisfied: dnspython>=2.0.0 in /home/daisy/Desktop/tenx/ContractAdvisorRAG/myenv/lib/python3.10/site-packages (from email_validator>=2.0.0->fastapi>=0.95.2->chromadb) (2.6.1)\n",
      "Requirement already satisfied: rsa<5,>=3.1.4 in /home/daisy/Desktop/tenx/ContractAdvisorRAG/myenv/lib/python3.10/site-packages (from google-auth>=1.0.1->kubernetes>=28.1.0->chromadb) (4.9)\n",
      "Requirement already satisfied: cachetools<6.0,>=2.0.0 in /home/daisy/Desktop/tenx/ContractAdvisorRAG/myenv/lib/python3.10/site-packages (from google-auth>=1.0.1->kubernetes>=28.1.0->chromadb) (5.3.3)\n",
      "Requirement already satisfied: pyasn1-modules>=0.2.1 in /home/daisy/Desktop/tenx/ContractAdvisorRAG/myenv/lib/python3.10/site-packages (from google-auth>=1.0.1->kubernetes>=28.1.0->chromadb) (0.4.0)\n",
      "Requirement already satisfied: fsspec>=2023.5.0 in /home/daisy/Desktop/tenx/ContractAdvisorRAG/myenv/lib/python3.10/site-packages (from huggingface-hub<1.0,>=0.16.4->tokenizers>=0.13.2->chromadb) (2024.6.1)\n",
      "Requirement already satisfied: filelock in /home/daisy/Desktop/tenx/ContractAdvisorRAG/myenv/lib/python3.10/site-packages (from huggingface-hub<1.0,>=0.16.4->tokenizers>=0.13.2->chromadb) (3.15.4)\n",
      "Requirement already satisfied: zipp>=0.5 in /home/daisy/Desktop/tenx/ContractAdvisorRAG/myenv/lib/python3.10/site-packages (from importlib-metadata<=7.1,>=6.0->opentelemetry-api>=1.2.0->chromadb) (3.19.2)\n",
      "Requirement already satisfied: MarkupSafe>=2.0 in /home/daisy/Desktop/tenx/ContractAdvisorRAG/myenv/lib/python3.10/site-packages (from jinja2>=2.11.2->fastapi>=0.95.2->chromadb) (2.1.5)\n",
      "Requirement already satisfied: jsonpointer>=1.9 in /home/daisy/Desktop/tenx/ContractAdvisorRAG/myenv/lib/python3.10/site-packages (from jsonpatch<2.0,>=1.33->langchain-core<0.3.0,>=0.2.10->langchain) (3.0.0)\n",
      "Requirement already satisfied: markdown-it-py>=2.2.0 in /home/daisy/Desktop/tenx/ContractAdvisorRAG/myenv/lib/python3.10/site-packages (from rich>=10.11.0->typer>=0.9.0->chromadb) (3.0.0)\n",
      "Requirement already satisfied: pygments<3.0.0,>=2.13.0 in /home/daisy/Desktop/tenx/ContractAdvisorRAG/myenv/lib/python3.10/site-packages (from rich>=10.11.0->typer>=0.9.0->chromadb) (2.18.0)\n",
      "Requirement already satisfied: humanfriendly>=9.1 in /home/daisy/Desktop/tenx/ContractAdvisorRAG/myenv/lib/python3.10/site-packages (from coloredlogs->onnxruntime>=1.14.1->chromadb) (10.0)\n",
      "Requirement already satisfied: mpmath<1.4.0,>=1.1.0 in /home/daisy/Desktop/tenx/ContractAdvisorRAG/myenv/lib/python3.10/site-packages (from sympy->onnxruntime>=1.14.1->chromadb) (1.3.0)\n",
      "Requirement already satisfied: mdurl~=0.1 in /home/daisy/Desktop/tenx/ContractAdvisorRAG/myenv/lib/python3.10/site-packages (from markdown-it-py>=2.2.0->rich>=10.11.0->typer>=0.9.0->chromadb) (0.1.2)\n",
      "Requirement already satisfied: pyasn1<0.7.0,>=0.4.6 in /home/daisy/Desktop/tenx/ContractAdvisorRAG/myenv/lib/python3.10/site-packages (from pyasn1-modules>=0.2.1->google-auth>=1.0.1->kubernetes>=28.1.0->chromadb) (0.6.0)\n"
     ]
    }
   ],
   "source": [
    "! pip install langchain chromadb openai PyMuPDF tiktoken"
   ]
  },
  {
   "cell_type": "code",
   "execution_count": 3,
   "metadata": {},
   "outputs": [
    {
     "name": "stdout",
     "output_type": "stream",
     "text": [
      "Requirement already satisfied: langchain-openai in /home/daisy/Desktop/tenx/ContractAdvisorRAG/myenv/lib/python3.10/site-packages (0.1.14)\n",
      "Requirement already satisfied: langchain-core<0.3,>=0.2.2 in /home/daisy/Desktop/tenx/ContractAdvisorRAG/myenv/lib/python3.10/site-packages (from langchain-openai) (0.2.10)\n",
      "Requirement already satisfied: tiktoken<1,>=0.7 in /home/daisy/Desktop/tenx/ContractAdvisorRAG/myenv/lib/python3.10/site-packages (from langchain-openai) (0.7.0)\n",
      "Requirement already satisfied: openai<2.0.0,>=1.32.0 in /home/daisy/Desktop/tenx/ContractAdvisorRAG/myenv/lib/python3.10/site-packages (from langchain-openai) (1.35.8)\n",
      "Requirement already satisfied: PyYAML>=5.3 in /home/daisy/Desktop/tenx/ContractAdvisorRAG/myenv/lib/python3.10/site-packages (from langchain-core<0.3,>=0.2.2->langchain-openai) (6.0.1)\n",
      "Requirement already satisfied: tenacity!=8.4.0,<9.0.0,>=8.1.0 in /home/daisy/Desktop/tenx/ContractAdvisorRAG/myenv/lib/python3.10/site-packages (from langchain-core<0.3,>=0.2.2->langchain-openai) (8.4.2)\n",
      "Requirement already satisfied: jsonpatch<2.0,>=1.33 in /home/daisy/Desktop/tenx/ContractAdvisorRAG/myenv/lib/python3.10/site-packages (from langchain-core<0.3,>=0.2.2->langchain-openai) (1.33)\n",
      "Requirement already satisfied: pydantic<3,>=1 in /home/daisy/Desktop/tenx/ContractAdvisorRAG/myenv/lib/python3.10/site-packages (from langchain-core<0.3,>=0.2.2->langchain-openai) (2.8.0)\n",
      "Requirement already satisfied: packaging<25,>=23.2 in /home/daisy/Desktop/tenx/ContractAdvisorRAG/myenv/lib/python3.10/site-packages (from langchain-core<0.3,>=0.2.2->langchain-openai) (24.1)\n",
      "Requirement already satisfied: langsmith<0.2.0,>=0.1.75 in /home/daisy/Desktop/tenx/ContractAdvisorRAG/myenv/lib/python3.10/site-packages (from langchain-core<0.3,>=0.2.2->langchain-openai) (0.1.83)\n",
      "Requirement already satisfied: anyio<5,>=3.5.0 in /home/daisy/Desktop/tenx/ContractAdvisorRAG/myenv/lib/python3.10/site-packages (from openai<2.0.0,>=1.32.0->langchain-openai) (4.4.0)\n",
      "Requirement already satisfied: distro<2,>=1.7.0 in /home/daisy/Desktop/tenx/ContractAdvisorRAG/myenv/lib/python3.10/site-packages (from openai<2.0.0,>=1.32.0->langchain-openai) (1.9.0)\n",
      "Requirement already satisfied: httpx<1,>=0.23.0 in /home/daisy/Desktop/tenx/ContractAdvisorRAG/myenv/lib/python3.10/site-packages (from openai<2.0.0,>=1.32.0->langchain-openai) (0.27.0)\n",
      "Requirement already satisfied: typing-extensions<5,>=4.7 in /home/daisy/Desktop/tenx/ContractAdvisorRAG/myenv/lib/python3.10/site-packages (from openai<2.0.0,>=1.32.0->langchain-openai) (4.12.2)\n",
      "Requirement already satisfied: sniffio in /home/daisy/Desktop/tenx/ContractAdvisorRAG/myenv/lib/python3.10/site-packages (from openai<2.0.0,>=1.32.0->langchain-openai) (1.3.1)\n",
      "Requirement already satisfied: tqdm>4 in /home/daisy/Desktop/tenx/ContractAdvisorRAG/myenv/lib/python3.10/site-packages (from openai<2.0.0,>=1.32.0->langchain-openai) (4.66.4)\n",
      "Requirement already satisfied: requests>=2.26.0 in /home/daisy/Desktop/tenx/ContractAdvisorRAG/myenv/lib/python3.10/site-packages (from tiktoken<1,>=0.7->langchain-openai) (2.32.3)\n",
      "Requirement already satisfied: regex>=2022.1.18 in /home/daisy/Desktop/tenx/ContractAdvisorRAG/myenv/lib/python3.10/site-packages (from tiktoken<1,>=0.7->langchain-openai) (2024.5.15)\n",
      "Requirement already satisfied: exceptiongroup>=1.0.2 in /home/daisy/Desktop/tenx/ContractAdvisorRAG/myenv/lib/python3.10/site-packages (from anyio<5,>=3.5.0->openai<2.0.0,>=1.32.0->langchain-openai) (1.2.1)\n",
      "Requirement already satisfied: idna>=2.8 in /home/daisy/Desktop/tenx/ContractAdvisorRAG/myenv/lib/python3.10/site-packages (from anyio<5,>=3.5.0->openai<2.0.0,>=1.32.0->langchain-openai) (3.7)\n",
      "Requirement already satisfied: httpcore==1.* in /home/daisy/Desktop/tenx/ContractAdvisorRAG/myenv/lib/python3.10/site-packages (from httpx<1,>=0.23.0->openai<2.0.0,>=1.32.0->langchain-openai) (1.0.5)\n",
      "Requirement already satisfied: certifi in /home/daisy/Desktop/tenx/ContractAdvisorRAG/myenv/lib/python3.10/site-packages (from httpx<1,>=0.23.0->openai<2.0.0,>=1.32.0->langchain-openai) (2024.6.2)\n",
      "Requirement already satisfied: h11<0.15,>=0.13 in /home/daisy/Desktop/tenx/ContractAdvisorRAG/myenv/lib/python3.10/site-packages (from httpcore==1.*->httpx<1,>=0.23.0->openai<2.0.0,>=1.32.0->langchain-openai) (0.14.0)\n",
      "Requirement already satisfied: jsonpointer>=1.9 in /home/daisy/Desktop/tenx/ContractAdvisorRAG/myenv/lib/python3.10/site-packages (from jsonpatch<2.0,>=1.33->langchain-core<0.3,>=0.2.2->langchain-openai) (3.0.0)\n",
      "Requirement already satisfied: orjson<4.0.0,>=3.9.14 in /home/daisy/Desktop/tenx/ContractAdvisorRAG/myenv/lib/python3.10/site-packages (from langsmith<0.2.0,>=0.1.75->langchain-core<0.3,>=0.2.2->langchain-openai) (3.10.5)\n",
      "Requirement already satisfied: annotated-types>=0.4.0 in /home/daisy/Desktop/tenx/ContractAdvisorRAG/myenv/lib/python3.10/site-packages (from pydantic<3,>=1->langchain-core<0.3,>=0.2.2->langchain-openai) (0.7.0)\n",
      "Requirement already satisfied: pydantic-core==2.20.0 in /home/daisy/Desktop/tenx/ContractAdvisorRAG/myenv/lib/python3.10/site-packages (from pydantic<3,>=1->langchain-core<0.3,>=0.2.2->langchain-openai) (2.20.0)\n",
      "Requirement already satisfied: charset-normalizer<4,>=2 in /home/daisy/Desktop/tenx/ContractAdvisorRAG/myenv/lib/python3.10/site-packages (from requests>=2.26.0->tiktoken<1,>=0.7->langchain-openai) (3.3.2)\n",
      "Requirement already satisfied: urllib3<3,>=1.21.1 in /home/daisy/Desktop/tenx/ContractAdvisorRAG/myenv/lib/python3.10/site-packages (from requests>=2.26.0->tiktoken<1,>=0.7->langchain-openai) (2.2.2)\n"
     ]
    }
   ],
   "source": [
    "! pip install -U langchain-openai"
   ]
  },
  {
   "cell_type": "code",
   "execution_count": 4,
   "metadata": {},
   "outputs": [],
   "source": [
    "import fitz  # PyMuPDF\n",
    "\n",
    "def extract_text_from_pdf(file_path):\n",
    "    text = \"\"\n",
    "    with fitz.open(file_path) as doc:\n",
    "        for page in doc:\n",
    "            text += page.get_text()\n",
    "    return text\n",
    "\n",
    "pdf_text_1 = extract_text_from_pdf(\"../data/Raptor.pdf\")\n",
    "pdf_text_2 = extract_text_from_pdf(\"../data/robinson.pdf\")\n",
    "\n",
    "texts = [pdf_text_1, pdf_text_2]\n"
   ]
  },
  {
   "cell_type": "code",
   "execution_count": 5,
   "metadata": {},
   "outputs": [],
   "source": [
    "from langchain.text_splitter import RecursiveCharacterTextSplitter\n",
    "\n",
    "chunk_size = 1000\n",
    "chunk_overlap = 0\n",
    "\n",
    "text_splitter = RecursiveCharacterTextSplitter(chunk_size=chunk_size, chunk_overlap=chunk_overlap)\n",
    "\n",
    "chunks = []\n",
    "for text in texts:\n",
    "    chunks.extend(text_splitter.split_text(text))\n"
   ]
  },
  {
   "cell_type": "code",
   "execution_count": 6,
   "metadata": {},
   "outputs": [
    {
     "name": "stdout",
     "output_type": "stream",
     "text": [
      "\n",
      "Total chunks: 248\n"
     ]
    }
   ],
   "source": [
    "print(f\"\\nTotal chunks: {len(chunks)}\")"
   ]
  },
  {
   "cell_type": "code",
   "execution_count": 12,
   "metadata": {},
   "outputs": [],
   "source": [
    "from langchain.vectorstores import Chroma\n",
    "from langchain_openai import OpenAIEmbeddings, ChatOpenAI\n",
    "from langchain.docstore.document import Document"
   ]
  },
  {
   "cell_type": "code",
   "execution_count": 13,
   "metadata": {},
   "outputs": [],
   "source": [
    "persist_directory = 'db'\n",
    "embedding = OpenAIEmbeddings()\n",
    "documents = [Document(page_content=chunk) for chunk in chunks]\n",
    "\n",
    "vectordb = Chroma.from_documents(documents=documents, embedding=embedding, persist_directory=persist_directory)\n"
   ]
  },
  {
   "cell_type": "code",
   "execution_count": 14,
   "metadata": {},
   "outputs": [
    {
     "data": {
      "text/plain": [
       "True"
      ]
     },
     "execution_count": 14,
     "metadata": {},
     "output_type": "execute_result"
    }
   ],
   "source": [
    "import os\n",
    "from dotenv import load_dotenv\n",
    "\n",
    "load_dotenv()"
   ]
  },
  {
   "cell_type": "code",
   "execution_count": 19,
   "metadata": {},
   "outputs": [],
   "source": [
    "from langchain.chains import RetrievalQA\n",
    "from langchain_openai import ChatOpenAI\n",
    "\n",
    "retriever = vectordb.as_retriever()\n",
    "llm = ChatOpenAI(model=\"gpt-3.5-turbo\", openai_api_key=os.getenv(\"OPENAI_API_KEY\"))\n",
    "\n",
    "rag_chain = RetrievalQA.from_chain_type(llm, chain_type=\"stuff\", retriever=retriever)\n",
    "\n",
    "def rag_qa(query):\n",
    "    response = rag_chain.invoke(query)\n",
    "    return response\n"
   ]
  },
  {
   "cell_type": "markdown",
   "metadata": {},
   "source": [
    "Robinson QnA"
   ]
  },
  {
   "cell_type": "code",
   "execution_count": 28,
   "metadata": {},
   "outputs": [
    {
     "name": "stdout",
     "output_type": "stream",
     "text": [
      "The Advisor, Mr. Jack Robinson, resides at 1 Rabin St, Tel Aviv, Israel.\n"
     ]
    }
   ],
   "source": [
    "query = \"In which street does the Advisor live?\"\n",
    "answer = rag_qa(query)\n",
    "print(answer)"
   ]
  },
  {
   "cell_type": "code",
   "execution_count": 29,
   "metadata": {},
   "outputs": [
    {
     "name": "stdout",
     "output_type": "stream",
     "text": [
      "Based on the provided context, it appears that the Acquired Companies own the Intellectual Property (IP). The text states that no person has interfered with, infringed upon, diluted, misappropriated, or violated any Company Intellectual Property, and no Acquired Company has made any claims against others regarding interference, infringement, dilution, misappropriation, or violation of their Intellectual Property. Additionally, the Acquired Companies have maintained commercially reasonable practices to protect their confidential information and trade secrets, requiring employees and contractors to maintain confidentiality and use the information solely for the benefit of the Acquired Companies.\n"
     ]
    }
   ],
   "source": [
    "query = \"Who owns the IP?\"\n",
    "answer = rag_qa(query)\n",
    "print(answer)"
   ]
  },
  {
   "cell_type": "code",
   "execution_count": 18,
   "metadata": {},
   "outputs": [
    {
     "name": "stdout",
     "output_type": "stream",
     "text": [
      "{'query': 'Who are the parties to the Agreement and what are their defined names?', 'result': 'The parties to the Agreement are:\\n\\n1. **Buyer** - Referred to as \"BUYER\" in the Agreement.\\n2. **The Company** - Referred to as \"COMPANY\" in the Agreement.\\n3. **Sellers’ Representative** - Referred to as \"SELLERS’ REPRESENTATIVE\" in the Agreement.\\n4. **The Sellers** - Referred to as \"SELLERS\" in the Agreement.\\n\\nThese are the defined names used throughout the Agreement.'}\n"
     ]
    }
   ],
   "source": [
    "query = \"Who are the parties to the Agreement and what are their defined names?\"\n",
    "answer = rag_qa(query)\n",
    "print(answer)"
   ]
  },
  {
   "cell_type": "code",
   "execution_count": 20,
   "metadata": {},
   "outputs": [
    {
     "name": "stderr",
     "output_type": "stream",
     "text": [
      "/home/daisy/Desktop/tenx/ContractAdvisorRAG/myenv/lib/python3.10/site-packages/langchain_core/_api/deprecation.py:139: LangChainDeprecationWarning: The method `Chain.run` was deprecated in langchain 0.1.0 and will be removed in 0.3.0. Use invoke instead.\n",
      "  warn_deprecated(\n"
     ]
    },
    {
     "name": "stdout",
     "output_type": "stream",
     "text": [
      "The termination notice according to the provided context is thirty (30) days or shorter prior notice, subject to the applicable Legal Requirements and Contractual Obligations.\n"
     ]
    }
   ],
   "source": [
    "query = \"What is the termination notice according to section 4 of the Robinson contract?\"\n",
    "answer = rag_qa(query)\n",
    "print(answer)"
   ]
  },
  {
   "cell_type": "code",
   "execution_count": 21,
   "metadata": {},
   "outputs": [
    {
     "name": "stdout",
     "output_type": "stream",
     "text": [
      "Under the Agreement, the payments to the Advisor are as follows:\n",
      "\n",
      "1. **Hourly Fees**: The Advisor will be paid USD 9 per Billable Hour, with a maximum limit of USD 1,500 per month.\n",
      "\n",
      "2. **Workspace Expense**: The Advisor will receive an additional USD 100 per month to finance a professional workspace, provided that the Advisor actually hires such a workspace.\n",
      "\n",
      "The Advisor is not entitled to any additional fees or expense reimbursements beyond what is explicitly stated in the Agreement.\n"
     ]
    }
   ],
   "source": [
    "query = \"What are the payments to the Advisor under the Agreement?\"\n",
    "answer = rag_qa(query)\n",
    "print(answer)"
   ]
  },
  {
   "cell_type": "markdown",
   "metadata": {},
   "source": [
    "Raptor QnA"
   ]
  },
  {
   "cell_type": "code",
   "execution_count": 23,
   "metadata": {},
   "outputs": [
    {
     "name": "stdout",
     "output_type": "stream",
     "text": [
      "The provided context does not specify the exact amount of the escrow in the Raptor contract. If you need to know the exact amount, you may need to refer to the Escrow Agreement or other relevant sections of the contract that detail the financial specifics.\n"
     ]
    }
   ],
   "source": [
    "query = \"How much is the escrow amount in the Raptor contract?\"\n",
    "answer = rag_qa(query)\n",
    "print(answer)"
   ]
  },
  {
   "cell_type": "code",
   "execution_count": 24,
   "metadata": {},
   "outputs": [
    {
     "name": "stdout",
     "output_type": "stream",
     "text": [
      "No, the Buyer does not need to pay the Employees Closing Bonus Amount directly to the Company’s employees. According to the provided context, at the Closing, the Buyer shall deposit the Employee Closing Bonus Amount with the Company, and the Company will then pay the bonuses through its payroll system to the individuals listed as Employees Closing Bonus Beneficiaries.\n"
     ]
    }
   ],
   "source": [
    "query = \"Does the Buyer need to pay the Employees Closing Bonus Amount directly to the Company’s employees?\"\n",
    "answer = rag_qa(query)\n",
    "print(answer)"
   ]
  },
  {
   "cell_type": "code",
   "execution_count": 25,
   "metadata": {},
   "outputs": [
    {
     "name": "stdout",
     "output_type": "stream",
     "text": [
      "Based on the provided context, the Buyer does not need to seek consent to assign the Agreement, provided that the assignment is to one or more of its Affiliates, or to any purchaser of all or substantially all its assets. However, the Buyer must ensure that it is not relieved of any liability or obligations under the Agreement even after the assignment.\n"
     ]
    }
   ],
   "source": [
    "query = \"Whose consent is required for the assignment of the Agreement by the Buyer?\"\n",
    "answer = rag_qa(query)\n",
    "print(answer)"
   ]
  },
  {
   "cell_type": "code",
   "execution_count": 26,
   "metadata": {},
   "outputs": [
    {
     "name": "stdout",
     "output_type": "stream",
     "text": [
      "The provided context does not specify any particular conditions that need to be met for the closing to occur. It mainly outlines the actions taken regarding the cancellation of options, termination of stock plans, and the process for closing payments. If there are specific conditions to the closing, they are not detailed in the excerpts given.\n"
     ]
    }
   ],
   "source": [
    "query = \" Are there any conditions to the closing?\"\n",
    "answer = rag_qa(query)\n",
    "print(answer)"
   ]
  }
 ],
 "metadata": {
  "kernelspec": {
   "display_name": "myenv",
   "language": "python",
   "name": "python3"
  },
  "language_info": {
   "codemirror_mode": {
    "name": "ipython",
    "version": 3
   },
   "file_extension": ".py",
   "mimetype": "text/x-python",
   "name": "python",
   "nbconvert_exporter": "python",
   "pygments_lexer": "ipython3",
   "version": "3.10.12"
  }
 },
 "nbformat": 4,
 "nbformat_minor": 2
}
